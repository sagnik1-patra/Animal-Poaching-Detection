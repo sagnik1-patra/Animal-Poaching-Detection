{
 "cells": [
  {
   "cell_type": "code",
   "execution_count": 2,
   "id": "9e3cdcf1-f6d7-40bf-9425-69fac55e3da1",
   "metadata": {},
   "outputs": [
    {
     "name": "stderr",
     "output_type": "stream",
     "text": [
      "C:\\Users\\sagni\\AppData\\Local\\Temp\\ipykernel_14248\\3701344960.py:17: UserWarning: `input_shape` is undefined or non-square, or `rows` is not in [96, 128, 160, 192, 224]. Weights for input shape (224, 224) will be loaded as the default.\n",
      "  base_model = MobileNetV2(weights=\"imagenet\", include_top=False, pooling=\"avg\")\n"
     ]
    },
    {
     "name": "stdout",
     "output_type": "stream",
     "text": [
      "Dataset saved to animal_tracking_data.csv with 2543 samples.\n"
     ]
    }
   ],
   "source": [
    "import os\n",
    "import pandas as pd\n",
    "import numpy as np\n",
    "import cv2\n",
    "from tensorflow.keras.applications import MobileNetV2\n",
    "from tensorflow.keras.applications.mobilenet_v2 import preprocess_input\n",
    "from tensorflow.keras.preprocessing.image import img_to_array\n",
    "\n",
    "dataset_path = r\"C:\\Users\\sagni\\Downloads\\archive (1)\\archive\\animals\\animals\"\n",
    "output_csv = \"animal_tracking_data.csv\"\n",
    "\n",
    "poaching_keywords = [\"human\", \"gun\", \"human_with_gun\"]\n",
    "\n",
    "base_model = MobileNetV2(weights=\"imagenet\", include_top=False, pooling=\"avg\")\n",
    "\n",
    "data = []\n",
    "labels = []\n",
    "\n",
    "for label_folder in os.listdir(dataset_path):\n",
    "    folder_path = os.path.join(dataset_path, label_folder)\n",
    "    if not os.path.isdir(folder_path):\n",
    "        continue\n",
    "    \n",
    "    poaching_detected = 1 if any(pk in label_folder.lower() for pk in poaching_keywords) else 0\n",
    "    \n",
    "    for file_name in os.listdir(folder_path):\n",
    "        if not (file_name.lower().endswith(\".jpg\") or file_name.lower().endswith(\".png\")):\n",
    "            continue\n",
    "        \n",
    "        file_path = os.path.join(folder_path, file_name)\n",
    "        image = cv2.imread(file_path)\n",
    "        if image is None:\n",
    "            continue\n",
    "        \n",
    "        image = cv2.resize(image, (224, 224))\n",
    "        image = img_to_array(image)\n",
    "        image = np.expand_dims(image, axis=0)\n",
    "        image = preprocess_input(image)\n",
    "        \n",
    "        features = base_model.predict(image, verbose=0)[0]\n",
    "        \n",
    "        data.append(features)\n",
    "        labels.append(poaching_detected)\n",
    "\n",
    "feature_names = [f\"f{i}\" for i in range(len(data[0]))]\n",
    "df = pd.DataFrame(data, columns=feature_names)\n",
    "df[\"poaching_detected\"] = labels\n",
    "\n",
    "df.to_csv(output_csv, index=False)\n",
    "print(f\"Dataset saved to {output_csv} with {len(df)} samples.\")\n"
   ]
  },
  {
   "cell_type": "code",
   "execution_count": 3,
   "id": "ba54c7a3-0084-47ca-90d8-b57d6133aa1a",
   "metadata": {},
   "outputs": [
    {
     "name": "stdout",
     "output_type": "stream",
     "text": [
      "              precision    recall  f1-score   support\n",
      "\n",
      " No Poaching       0.96      1.00      0.98       455\n",
      "    Poaching       1.00      0.63      0.77        54\n",
      "\n",
      "    accuracy                           0.96       509\n",
      "   macro avg       0.98      0.81      0.88       509\n",
      "weighted avg       0.96      0.96      0.96       509\n",
      "\n",
      "Model saved to poaching_detector.pkl\n",
      "Testing on: C:\\Users\\sagni\\Downloads\\archive (1)\\archive\\animals\\animals\\Human_with_gun\\austin-pacheco-gEsSvM1Vm8g-unsplash.jpg\n"
     ]
    },
    {
     "name": "stderr",
     "output_type": "stream",
     "text": [
      "C:\\Users\\sagni\\AppData\\Local\\Temp\\ipykernel_14248\\3382365929.py:36: UserWarning: `input_shape` is undefined or non-square, or `rows` is not in [96, 128, 160, 192, 224]. Weights for input shape (224, 224) will be loaded as the default.\n",
      "  base_model = MobileNetV2(weights=\"imagenet\", include_top=False, pooling=\"avg\")\n"
     ]
    },
    {
     "name": "stdout",
     "output_type": "stream",
     "text": [
      "🚨 Poaching Detected! (Confidence: 0.78)\n"
     ]
    }
   ],
   "source": [
    "import pandas as pd\n",
    "import numpy as np\n",
    "from sklearn.model_selection import train_test_split\n",
    "from sklearn.ensemble import RandomForestClassifier\n",
    "from sklearn.metrics import classification_report\n",
    "import joblib\n",
    "import cv2\n",
    "import os\n",
    "from tensorflow.keras.applications import MobileNetV2\n",
    "from tensorflow.keras.applications.mobilenet_v2 import preprocess_input\n",
    "from tensorflow.keras.preprocessing.image import img_to_array\n",
    "\n",
    "# ===== STEP 1: Load dataset =====\n",
    "df = pd.read_csv(\"animal_tracking_data.csv\")\n",
    "\n",
    "X = df.drop(columns=[\"poaching_detected\"]).values\n",
    "y = df[\"poaching_detected\"].values\n",
    "\n",
    "# Train-test split\n",
    "X_train, X_test, y_train, y_test = train_test_split(X, y, test_size=0.2, random_state=42)\n",
    "\n",
    "# ===== STEP 2: Train model =====\n",
    "clf = RandomForestClassifier(n_estimators=200, random_state=42)\n",
    "clf.fit(X_train, y_train)\n",
    "\n",
    "# Evaluate\n",
    "y_pred = clf.predict(X_test)\n",
    "print(classification_report(y_test, y_pred, target_names=[\"No Poaching\", \"Poaching\"]))\n",
    "\n",
    "# Save model\n",
    "joblib.dump(clf, \"poaching_detector.pkl\")\n",
    "print(\"Model saved to poaching_detector.pkl\")\n",
    "\n",
    "# ===== STEP 3: Predict function =====\n",
    "def predict_poaching(image_path):\n",
    "    base_model = MobileNetV2(weights=\"imagenet\", include_top=False, pooling=\"avg\")\n",
    "    \n",
    "    image = cv2.imread(image_path)\n",
    "    if image is None:\n",
    "        raise ValueError(f\"Could not load image: {image_path}\")\n",
    "    \n",
    "    image = cv2.resize(image, (224, 224))\n",
    "    image = img_to_array(image)\n",
    "    image = np.expand_dims(image, axis=0)\n",
    "    image = preprocess_input(image)\n",
    "    \n",
    "    features = base_model.predict(image, verbose=0)[0].reshape(1, -1)\n",
    "    \n",
    "    model = joblib.load(\"poaching_detector.pkl\")\n",
    "    pred = model.predict(features)[0]\n",
    "    confidence = model.predict_proba(features)[0][pred]\n",
    "    \n",
    "    if pred == 1:\n",
    "        return f\"🚨 Poaching Detected! (Confidence: {confidence:.2f})\"\n",
    "    else:\n",
    "        return f\"✅ No Poaching (Confidence: {confidence:.2f})\"\n",
    "\n",
    "# ===== STEP 4: Test prediction on Human_with_gun =====\n",
    "human_with_gun_dir = r\"C:\\Users\\sagni\\Downloads\\archive (1)\\archive\\animals\\animals\\Human_with_gun\"\n",
    "test_image = os.path.join(human_with_gun_dir, os.listdir(human_with_gun_dir)[0])  # first image in folder\n",
    "\n",
    "print(f\"Testing on: {test_image}\")\n",
    "print(predict_poaching(test_image))\n"
   ]
  },
  {
   "cell_type": "code",
   "execution_count": null,
   "id": "4039ae5b-24cd-4ab9-9178-7d913ee525a2",
   "metadata": {},
   "outputs": [],
   "source": []
  }
 ],
 "metadata": {
  "kernelspec": {
   "display_name": "Python 3.11 (moviepy)",
   "language": "python",
   "name": "py311"
  },
  "language_info": {
   "codemirror_mode": {
    "name": "ipython",
    "version": 3
   },
   "file_extension": ".py",
   "mimetype": "text/x-python",
   "name": "python",
   "nbconvert_exporter": "python",
   "pygments_lexer": "ipython3",
   "version": "3.11.9"
  }
 },
 "nbformat": 4,
 "nbformat_minor": 5
}
